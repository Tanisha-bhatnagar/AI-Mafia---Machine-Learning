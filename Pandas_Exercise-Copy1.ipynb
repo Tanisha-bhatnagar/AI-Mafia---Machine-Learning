{
 "cells": [
  {
   "cell_type": "markdown",
   "metadata": {},
   "source": [
    "# <center>Introduction to Pandas</center>\n",
    "\n",
    "![](https://pandas.pydata.org/_static/pandas_logo.png)\n",
    "\n",
    "\n",
    "## Installation\n",
    "\n",
    "Simply,\n",
    "```\n",
    "pip install pandas\n",
    "```\n",
    "\n",
    "\n",
    "## Reading data from a CSV file\n",
    "\n",
    "You can read data from a CSV file using the ``read_csv`` function. By default, it assumes that the fields are comma-separated."
   ]
  },
  {
   "cell_type": "code",
   "execution_count": 745,
   "metadata": {},
   "outputs": [],
   "source": [
    "# import pandas \n",
    "import pandas as pd"
   ]
  },
  {
   "cell_type": "markdown",
   "metadata": {},
   "source": [
    ">The `imdb.csv` dataset contains Highest Rated IMDb \"Top 1000\" Titles."
   ]
  },
  {
   "cell_type": "code",
   "execution_count": 746,
   "metadata": {},
   "outputs": [],
   "source": [
    "# load imdb dataset as pandas dataframe\n",
    "imdb_df = pd.read_csv('imdb.csv.csv')"
   ]
  },
  {
   "cell_type": "code",
   "execution_count": 747,
   "metadata": {},
   "outputs": [
    {
     "name": "stdout",
     "output_type": "stream",
     "text": [
      "   star_rating                     title content_rating   genre  duration  \\\n",
      "0          9.3  The Shawshank Redemption              R   Crime       142   \n",
      "1          9.2             The Godfather              R   Crime       175   \n",
      "2          9.1    The Godfather: Part II              R   Crime       200   \n",
      "3          9.0           The Dark Knight          PG-13  Action       152   \n",
      "4          8.9              Pulp Fiction              R   Crime       154   \n",
      "\n",
      "                                         actors_list  \n",
      "0  [u'Tim Robbins', u'Morgan Freeman', u'Bob Gunt...  \n",
      "1    [u'Marlon Brando', u'Al Pacino', u'James Caan']  \n",
      "2  [u'Al Pacino', u'Robert De Niro', u'Robert Duv...  \n",
      "3  [u'Christian Bale', u'Heath Ledger', u'Aaron E...  \n",
      "4  [u'John Travolta', u'Uma Thurman', u'Samuel L....  \n"
     ]
    }
   ],
   "source": [
    "# show first 5 rows of imdb_df\n",
    "print(imdb_df.head())"
   ]
  },
  {
   "cell_type": "markdown",
   "metadata": {},
   "source": [
    ">The `bikes.csv` dataset contains information about the number of bicycles that used certain bicycle lanes in Montreal in the year 2012."
   ]
  },
  {
   "cell_type": "code",
   "execution_count": 748,
   "metadata": {},
   "outputs": [],
   "source": [
    "# load bikes dataset as pandas dataframe\n",
    "bikes_df = pd.read_csv('bikes.csv')"
   ]
  },
  {
   "cell_type": "code",
   "execution_count": 749,
   "metadata": {},
   "outputs": [
    {
     "name": "stdout",
     "output_type": "stream",
     "text": [
      "  Date;;Rachel / Papineau;Berri1;Maisonneuve_2;Maisonneuve_1;Brébeuf;Parc;PierDup;CSC (Côte Sainte-Catherine);Pont_Jacques_Cartier\n",
      "0          01/01/2012;00:00;16;35;51;38;5;26;10;0;27                                                                              \n",
      "1         02/01/2012;00:00;43;83;153;68;11;53;6;1;21                                                                              \n",
      "2        03/01/2012;00:00;58;135;248;104;2;89;3;2;15                                                                              \n"
     ]
    }
   ],
   "source": [
    "# show first 3 rows of bikes_df\n",
    "print(bikes_df.head(3))\n"
   ]
  },
  {
   "cell_type": "markdown",
   "metadata": {},
   "source": [
    "## Selecting columns\n",
    "\n",
    "When you read a CSV, you get a kind of object called a DataFrame, which is made up of rows and columns. You get columns out of a DataFrame the same way you get elements out of a dictionary."
   ]
  },
  {
   "cell_type": "code",
   "execution_count": 750,
   "metadata": {},
   "outputs": [
    {
     "name": "stdout",
     "output_type": "stream",
     "text": [
      "Index(['star_rating', 'title', 'content_rating', 'genre', 'duration',\n",
      "       'actors_list'],\n",
      "      dtype='object')\n"
     ]
    }
   ],
   "source": [
    "# list columns of imdb_df\n",
    "print(imdb_df.columns)"
   ]
  },
  {
   "cell_type": "code",
   "execution_count": 751,
   "metadata": {},
   "outputs": [
    {
     "name": "stdout",
     "output_type": "stream",
     "text": [
      "star_rating       float64\n",
      "title              object\n",
      "content_rating     object\n",
      "genre              object\n",
      "duration            int64\n",
      "actors_list        object\n",
      "dtype: object\n"
     ]
    }
   ],
   "source": [
    "# what are the datatypes of values in columns\n",
    "print(imdb_df.dtypes)"
   ]
  },
  {
   "cell_type": "code",
   "execution_count": 752,
   "metadata": {},
   "outputs": [
    {
     "name": "stdout",
     "output_type": "stream",
     "text": [
      "0    The Shawshank Redemption\n",
      "1               The Godfather\n",
      "2      The Godfather: Part II\n",
      "3             The Dark Knight\n",
      "4                Pulp Fiction\n",
      "Name: title, dtype: object\n"
     ]
    }
   ],
   "source": [
    "# list first 5 movie titles\n",
    "print(imdb_df['title'].head(5))"
   ]
  },
  {
   "cell_type": "code",
   "execution_count": 753,
   "metadata": {},
   "outputs": [
    {
     "name": "stdout",
     "output_type": "stream",
     "text": [
      "                      title   genre\n",
      "0  The Shawshank Redemption   Crime\n",
      "1             The Godfather   Crime\n",
      "2    The Godfather: Part II   Crime\n",
      "3           The Dark Knight  Action\n",
      "4              Pulp Fiction   Crime\n"
     ]
    }
   ],
   "source": [
    "# show only movie title and genre\n",
    "print(imdb_df[['title', 'genre']].head())"
   ]
  },
  {
   "cell_type": "markdown",
   "metadata": {},
   "source": [
    "## Understanding columns\n",
    "\n",
    "On the inside, the type of a column is ``pd.Series`` and pandas Series are internally numpy arrays. If you add ``.values`` to the end of any Series, you'll get its internal **numpy array**."
   ]
  },
  {
   "cell_type": "code",
   "execution_count": 754,
   "metadata": {},
   "outputs": [
    {
     "name": "stdout",
     "output_type": "stream",
     "text": [
      "<class 'pandas.core.series.Series'>\n"
     ]
    }
   ],
   "source": [
    "# show the type of duration column\n",
    "print(type(imdb_df['duration']))"
   ]
  },
  {
   "cell_type": "code",
   "execution_count": 755,
   "metadata": {},
   "outputs": [
    {
     "name": "stdout",
     "output_type": "stream",
     "text": [
      "[142 175 200 152 154  96 161 201 195 139 178 148 124 142 179 169 133 207\n",
      " 146 121 136 130 130 106 127 116 175 118 110  87 125 112 102 107 119  87\n",
      " 169 115 112 109 189 110 150 165 155 137 113 165  95 151 155 153 125 130\n",
      " 116  89 137 117  88 165 170  89 146  99  98 116 156 122 149 134 122 136\n",
      " 157 123 119 137 128 120 229 107 134 103 177 129 102 216 136  93  68 189\n",
      "  99 108 113 181 103 138 110 129  88 160 126  91 116 125 143  93 102 132\n",
      " 153 183 160 120 138 140 153 170 129  81 127 131 172 115 108 107 129 156\n",
      "  96  91  95 162 130  86 186 151  96 170 118 161 131 126 131 129 224 180\n",
      " 105 117 140 119 124 130 139 107 132 117 126 122 178 238 149 172  98 116\n",
      " 116 123 148 123 182  92  93 100 135 105  94 140  83  95  98 143  99  98\n",
      " 121 163 121 167 188 121 109 110 129 127  94 107 100 117 129 120 121 133\n",
      " 111 122 101 134 165 138 212 154  89 134  93 114  88 130 101 158  99 108\n",
      " 124 132 113 131 191 167 130 147 102  88 165 132 118 101 108 174  98  92\n",
      "  98 106  85 101 105 115 115 124 105 103 138 184 120  99 131 138  98 123\n",
      " 118 114 118 112 124 160  67 146 125 115 134 141 129 104  94 124 150 119\n",
      " 128 143  85 151 118 101  99  92 125 102 106 107  91  80 122 102 112  92\n",
      " 135 136 153 105 126  68  84 103 145  80 106 127 178 137 172  76 130  96\n",
      "  82 115  95 143 125 120 127 112 104 113 189 127 188  96 113 132 122 126\n",
      " 140 133 112 102  93 109  81 108 111 119  96 197 127 138  66 181 141 144\n",
      " 128  83 121  98 117  94 174 112 108  70  99  96 137 136 100  90  96 161\n",
      " 115 181 169  98 136 138 119 123 112 120 103  97 109 165 156 147 100 126\n",
      " 115 105 144 102 107 119  90 197  86 113 133  64 141 113 122 105 119 102\n",
      " 122 123 113  97 117 111  85  99 134  75 109 117  91 128 111 119 100 114\n",
      "  92 141 101 115 127  96 129 135 109 157 193  94 155 113 130 117 159 141\n",
      " 112 162 126 120 144 120 109  97 108 115 136  90 170 220 116 134 124  91\n",
      " 103  96 119  98 101  93 179 155 121 103 127 103 107 100  92  94 158  86\n",
      " 115 130 107 100 108 124 131 122 242 127 141 126  89 113 152 107  92 145\n",
      "  84 126 132  78 117 128 100 128 100 143 107 100 125 106 157  94 104  94\n",
      " 153 123 120 105 166 112  94 111  87  80 108 102 105 136 101 100 108 101\n",
      " 106 105  88 129 138 129 118 139 123 150 132  80 178  79 163 114 144 130\n",
      " 154  81  95 101 120  93 115 106 120 110 123 142  99 112 120 122 130 139\n",
      " 129 141 127 130 118 110 115 101 112 108 143 152 117 121 119 114 122 105\n",
      " 110 116 139 121 109 146 113 100 121 113 113 117  93 101  90 131  98  93\n",
      " 121  82 124 100 117  99 116 123 114 133 105 127 144  90 118 122 102 187\n",
      "  87 154  89  88 129  95 118  98 194 114  80 130 135 101 105 129 134 143\n",
      " 202  89 106  92 137 124 122 113 112 110 135  88 146 104 125 131  91 142\n",
      " 129 158 102  99 101 104 119 103  88 100 146 150 140 140 110  97 102 152\n",
      " 100  94  85 104 112 191 119 111  94 103 134 157 158 127 101 109  98 134\n",
      " 168  93 145 111  88 123 121 144 116 124 147 106 113 129  94 126 128 111\n",
      " 146  85 105 132 130 162 113 110 113 162 110  78  92  95 138 102 128  96\n",
      " 164 126 110 109 122 124 128 157 120 102 152 170 102 116 164  85 104  99\n",
      "  81 131 101 121  69  92  94 141 116  98 135 121 108 114 102 112 140 157\n",
      " 128 108 139  83 131 113 136  96 118 108  83 205 124 111 137 104 109 115\n",
      "  99 114 133 131 131 123 126  97 126  89 122 121 125 105 118  81 115 126\n",
      " 113 107 126 111  85 120  93 100 107 126 131 116 143  93  96 160 137 119\n",
      " 114  98 111 138 144 107 114 125 146 113  85  97  93 113 128 114 147 127\n",
      " 167 124 109 124 102 130 125  98 154  97 128  98 101 147 172 125  88 125\n",
      " 121 112 120 133 110 135 110  80 135 101 112 124 129 104  96 105 109 117\n",
      "  78 138 106  90 106  91 112 134 112 104 101 120 123 133 110 129 120  83\n",
      "  88  96 139 113  84 106 170 144 104 153  85 130  93 148 115 102 125 106\n",
      " 121 143 116  99 116 128 119 104 114 152 129 103 112  92 141 106 109 104\n",
      " 122 111 112 116 130 133 134  92 104 110  97 100 118 112 138  92 118 140\n",
      " 128 101  75  97 111 175  94  97 132 120 107  89  86 103 108 105 117 102\n",
      " 104 157 104  98 109  96 103 114  99 118 150 105  87 136 162 109 107  90\n",
      " 112 126 116 118 138 114 126]\n"
     ]
    }
   ],
   "source": [
    "# show duration values of movies as numpy arrays\n",
    "print(imdb_df['duration'].values)"
   ]
  },
  {
   "cell_type": "markdown",
   "metadata": {},
   "source": [
    "## Applying functions to columns\n",
    "\n",
    "Use `.apply` function to apply any function to each element of a column."
   ]
  },
  {
   "cell_type": "code",
   "execution_count": 756,
   "metadata": {},
   "outputs": [
    {
     "name": "stdout",
     "output_type": "stream",
     "text": [
      "                      title\n",
      "0  THE SHAWSHANK REDEMPTION\n",
      "1             THE GODFATHER\n",
      "2    THE GODFATHER: PART II\n",
      "3           THE DARK KNIGHT\n",
      "4              PULP FICTION\n"
     ]
    }
   ],
   "source": [
    "# convert all the movie titles to uppercase\n",
    "imdb_df['title'] = imdb_df['title'].apply(lambda x: x.upper())\n",
    "\n",
    "# Showing the first 5 rows to verify the change\n",
    "print(imdb_df[['title']].head())"
   ]
  },
  {
   "cell_type": "markdown",
   "metadata": {},
   "source": [
    "## Plotting a column\n",
    "\n",
    "Use ``.plot()`` function!"
   ]
  },
  {
   "cell_type": "code",
   "execution_count": 757,
   "metadata": {},
   "outputs": [],
   "source": [
    "# plot the bikers travelling to Berri1 over the year\n",
    "#import matplotlib.pyplot as plt\n",
    "#bikes_df['Berri1'].plot(title='Bikers Traveling to Berri1 Over the Year')"
   ]
  },
  {
   "cell_type": "code",
   "execution_count": 758,
   "metadata": {},
   "outputs": [],
   "source": [
    "# plot all the columns of bikes_df\n",
    "#bikes_df.plot(title='Bikes Data Over the Year')"
   ]
  },
  {
   "cell_type": "markdown",
   "metadata": {},
   "source": [
    "## Value counts\n",
    "\n",
    "Get count of unique values in a particular column/Series."
   ]
  },
  {
   "cell_type": "code",
   "execution_count": 759,
   "metadata": {},
   "outputs": [
    {
     "name": "stdout",
     "output_type": "stream",
     "text": [
      "genre\n",
      "Drama        278\n",
      "Comedy       156\n",
      "Action       136\n",
      "Crime        124\n",
      "Biography     77\n",
      "Adventure     75\n",
      "Animation     62\n",
      "Horror        29\n",
      "Mystery       16\n",
      "Western        9\n",
      "Sci-Fi         5\n",
      "Thriller       5\n",
      "Film-Noir      3\n",
      "Family         2\n",
      "History        1\n",
      "Fantasy        1\n",
      "Name: count, dtype: int64\n"
     ]
    }
   ],
   "source": [
    "# what are the unique genre in imdb_df?\n",
    "genre_counts = imdb_df['genre'].value_counts()\n",
    "print(genre_counts)"
   ]
  },
  {
   "cell_type": "code",
   "execution_count": 760,
   "metadata": {},
   "outputs": [
    {
     "data": {
      "image/png": "[encoded data removed]",
      "text/plain": [
       "<Figure size 640x480 with 1 Axes>"
      ]
     },
     "metadata": {},
     "output_type": "display_data"
    }
   ],
   "source": [
    "import matplotlib.pyplot as plt\n",
    "# Plot the value counts of unique genres as a bar chart\n",
    "genre_counts.plot(kind='bar', title='Count of Unique Genres')\n",
    "plt.xlabel('genre')\n",
    "plt.ylabel('Count')\n",
    "plt.show()"
   ]
  },
  {
   "cell_type": "code",
   "execution_count": 761,
   "metadata": {},
   "outputs": [
    {
     "data": {
      "image/png": "[encoded data removed]",
      "text/plain": [
       "<Figure size 640x480 with 1 Axes>"
      ]
     },
     "metadata": {},
     "output_type": "display_data"
    }
   ],
   "source": [
    "# plotting value counts of unique genres as a pie chart\n",
    "genre_counts.plot(kind='pie', autopct='%1.1f%%', title='Distribution of Unique Genres')\n",
    "plt.ylabel('') \n",
    "plt.show()"
   ]
  },
  {
   "cell_type": "markdown",
   "metadata": {},
   "source": [
    "## Index\n",
    "\n",
    "### DATAFRAME = COLUMNS + INDEX + ND DATA\n",
    "\n",
    "### SERIES = INDEX + 1-D DATA\n",
    "\n",
    "**Index** or (**row labels**) is one of the fundamental data structure of pandas. It can be thought of as an **immutable array** and an **ordered set**.\n",
    "\n",
    "> Every row is uniquely identified by its index value."
   ]
  },
  {
   "cell_type": "code",
   "execution_count": 762,
   "metadata": {},
   "outputs": [
    {
     "name": "stdout",
     "output_type": "stream",
     "text": [
      "RangeIndex(start=0, stop=366, step=1)\n"
     ]
    }
   ],
   "source": [
    "# show index of bikes_df\n",
    "print(bikes_df.index)"
   ]
  },
  {
   "cell_type": "code",
   "execution_count": 763,
   "metadata": {},
   "outputs": [],
   "source": [
    "# Get the row for date '2012-01-01'\n",
    "#row_for_date = bikes_df.loc['2012-01-01']\n",
    "#print(row_for_date)"
   ]
  },
  {
   "cell_type": "markdown",
   "metadata": {},
   "source": [
    "#### To get row by integer index:\n",
    "\n",
    "Use ``.iloc[]`` for purely integer-location based indexing for selection by position."
   ]
  },
  {
   "cell_type": "code",
   "execution_count": 764,
   "metadata": {},
   "outputs": [
    {
     "name": "stdout",
     "output_type": "stream",
     "text": [
      "star_rating                                                     8.8\n",
      "title             THE LORD OF THE RINGS: THE FELLOWSHIP OF THE RING\n",
      "content_rating                                                PG-13\n",
      "genre                                                     Adventure\n",
      "duration                                                        178\n",
      "actors_list       [u'Elijah Wood', u'Ian McKellen', u'Orlando Bl...\n",
      "Name: 10, dtype: object\n"
     ]
    }
   ],
   "source": [
    "# show 11th row of imdb_df using iloc\n",
    "eleventh_row = imdb_df.iloc[10]\n",
    "print(eleventh_row)"
   ]
  },
  {
   "cell_type": "markdown",
   "metadata": {},
   "source": [
    "## Selecting rows where column has a particular value"
   ]
  },
  {
   "cell_type": "code",
   "execution_count": 765,
   "metadata": {},
   "outputs": [
    {
     "name": "stdout",
     "output_type": "stream",
     "text": [
      "     star_rating                                              title  \\\n",
      "7            8.9      THE LORD OF THE RINGS: THE RETURN OF THE KING   \n",
      "10           8.8  THE LORD OF THE RINGS: THE FELLOWSHIP OF THE RING   \n",
      "14           8.8              THE LORD OF THE RINGS: THE TWO TOWERS   \n",
      "15           8.7                                       INTERSTELLAR   \n",
      "54           8.5                                 BACK TO THE FUTURE   \n",
      "..           ...                                                ...   \n",
      "936          7.4                                          TRUE GRIT   \n",
      "937          7.4                                          LABYRINTH   \n",
      "943          7.4                                    THE BUCKET LIST   \n",
      "953          7.4                              THE NEVERENDING STORY   \n",
      "975          7.4                        BACK TO THE FUTURE PART III   \n",
      "\n",
      "    content_rating      genre  duration  \\\n",
      "7            PG-13  Adventure       201   \n",
      "10           PG-13  Adventure       178   \n",
      "14           PG-13  Adventure       179   \n",
      "15           PG-13  Adventure       169   \n",
      "54              PG  Adventure       116   \n",
      "..             ...        ...       ...   \n",
      "936            NaN  Adventure       128   \n",
      "937             PG  Adventure       101   \n",
      "943          PG-13  Adventure        97   \n",
      "953             PG  Adventure       102   \n",
      "975             PG  Adventure       118   \n",
      "\n",
      "                                           actors_list  \n",
      "7    [u'Elijah Wood', u'Viggo Mortensen', u'Ian McK...  \n",
      "10   [u'Elijah Wood', u'Ian McKellen', u'Orlando Bl...  \n",
      "14   [u'Elijah Wood', u'Ian McKellen', u'Viggo Mort...  \n",
      "15   [u'Matthew McConaughey', u'Anne Hathaway', u'J...  \n",
      "54   [u'Michael J. Fox', u'Christopher Lloyd', u'Le...  \n",
      "..                                                 ...  \n",
      "936    [u'John Wayne', u'Kim Darby', u'Glen Campbell']  \n",
      "937  [u'David Bowie', u'Jennifer Connelly', u'Toby ...  \n",
      "943  [u'Jack Nicholson', u'Morgan Freeman', u'Sean ...  \n",
      "953  [u'Noah Hathaway', u'Barret Oliver', u'Tami St...  \n",
      "975  [u'Michael J. Fox', u'Christopher Lloyd', u'Ma...  \n",
      "\n",
      "[75 rows x 6 columns]\n"
     ]
    }
   ],
   "source": [
    "# select only those movies where genre is adventure\n",
    "adventure_movies = imdb_df[imdb_df['genre'] == 'Adventure']\n",
    "print(adventure_movies)"
   ]
  },
  {
   "cell_type": "code",
   "execution_count": 766,
   "metadata": {},
   "outputs": [],
   "source": [
    "# which genre has highest number of movies with star rating above 8 and duration more than 130 minutes?\n"
   ]
  },
  {
   "cell_type": "markdown",
   "metadata": {},
   "source": [
    "## Adding a new column to DataFrame"
   ]
  },
  {
   "cell_type": "code",
   "execution_count": 767,
   "metadata": {},
   "outputs": [
    {
     "name": "stdout",
     "output_type": "stream",
     "text": [
      "Column 'Date' not found in DataFrame\n",
      "  Date;;Rachel / Papineau;Berri1;Maisonneuve_2;Maisonneuve_1;Brébeuf;Parc;PierDup;CSC (Côte Sainte-Catherine);Pont_Jacques_Cartier\n",
      "0          01/01/2012;00:00;16;35;51;38;5;26;10;0;27                                                                              \n",
      "1         02/01/2012;00:00;43;83;153;68;11;53;6;1;21                                                                              \n",
      "2        03/01/2012;00:00;58;135;248;104;2;89;3;2;15                                                                              \n",
      "3       04/01/2012;00:00;61;144;318;116;2;111;8;1;19                                                                              \n",
      "4       05/01/2012;00:00;95;197;330;124;6;97;13;2;16                                                                              \n"
     ]
    }
   ],
   "source": [
    "# add a weekday column to bikes_df\n",
    "if 'Date' in bikes_df.columns:\n",
    "    bikes_df['Date'] = pd.to_datetime(bikes_df['Date'], format='%Y/%m/%d')\n",
    "    # Add a new column 'weekday'\n",
    "    bikes_df['weekday'] = bikes_df['Date'].dt.day_name()\n",
    "else:\n",
    "    print(\"Column 'Date' not found in DataFrame\")\n",
    "\n",
    "# Display the updated DataFrame\n",
    "print(bikes_df.head())\n"
   ]
  },
  {
   "cell_type": "markdown",
   "metadata": {},
   "source": [
    "## Deleting an existing column from DataFrame"
   ]
  },
  {
   "cell_type": "code",
   "execution_count": 768,
   "metadata": {},
   "outputs": [
    {
     "name": "stdout",
     "output_type": "stream",
     "text": [
      "Index(['Date;;Rachel / Papineau;Berri1;Maisonneuve_2;Maisonneuve_1;Brébeuf;Parc;PierDup;CSC (Côte Sainte-Catherine);Pont_Jacques_Cartier'], dtype='object')\n",
      "Empty DataFrame\n",
      "Columns: []\n",
      "Index: [0, 1, 2, 3, 4]\n"
     ]
    }
   ],
   "source": [
    "# remove column 'Unnamed: 1' from bikes_df\n",
    "print(bikes_df.columns)\n",
    "bikes_df = bikes_df.drop(bikes_df.columns[0], axis=1)\n",
    "print(bikes_df.head())"
   ]
  },
  {
   "cell_type": "markdown",
   "metadata": {},
   "source": [
    "## Deleting a row in DataFrame"
   ]
  },
  {
   "cell_type": "code",
   "execution_count": 769,
   "metadata": {},
   "outputs": [
    {
     "name": "stdout",
     "output_type": "stream",
     "text": [
      "Empty DataFrame\n",
      "Columns: []\n",
      "Index: [0, 2, 3, 4, 5]\n"
     ]
    }
   ],
   "source": [
    "# remove row no. 1 from bikes_df\n",
    "bikes_df = bikes_df.drop(index=1)\n",
    "print(bikes_df.head())"
   ]
  },
  {
   "cell_type": "markdown",
   "metadata": {},
   "source": [
    "## Group By\n",
    "\n",
    "Any groupby operation involves one of the following operations on the original object. They are −\n",
    "\n",
    "- Splitting the Object\n",
    "\n",
    "- Applying a function\n",
    "\n",
    "- Combining the results\n",
    "\n",
    "In many situations, we split the data into sets and we apply some functionality on each subset. In the apply functionality, we can perform the following operations −\n",
    "\n",
    "- **Aggregation** − computing a summary statistic\n",
    "\n",
    "- **Transformation** − perform some group-specific operation\n",
    "\n",
    "- **Filtration** − discarding the data with some condition"
   ]
  },
  {
   "cell_type": "code",
   "execution_count": 770,
   "metadata": {},
   "outputs": [],
   "source": [
    "# group imdb_df by movie genres\n",
    "genre_groups = imdb_df.groupby('genre')"
   ]
  },
  {
   "cell_type": "code",
   "execution_count": 771,
   "metadata": {},
   "outputs": [
    {
     "name": "stdout",
     "output_type": "stream",
     "text": [
      "     star_rating                     title content_rating  genre  duration  \\\n",
      "0            9.3  THE SHAWSHANK REDEMPTION              R  Crime       142   \n",
      "1            9.2             THE GODFATHER              R  Crime       175   \n",
      "2            9.1    THE GODFATHER: PART II              R  Crime       200   \n",
      "4            8.9              PULP FICTION              R  Crime       154   \n",
      "21           8.7               CITY OF GOD              R  Crime       130   \n",
      "..           ...                       ...            ...    ...       ...   \n",
      "927          7.5                     BRICK              R  Crime       110   \n",
      "931          7.4              MEAN STREETS              R  Crime       112   \n",
      "950          7.4                     BOUND              R  Crime       108   \n",
      "969          7.4       LAW ABIDING CITIZEN              R  Crime       109   \n",
      "978          7.4               WALL STREET              R  Crime       126   \n",
      "\n",
      "                                           actors_list  \n",
      "0    [u'Tim Robbins', u'Morgan Freeman', u'Bob Gunt...  \n",
      "1      [u'Marlon Brando', u'Al Pacino', u'James Caan']  \n",
      "2    [u'Al Pacino', u'Robert De Niro', u'Robert Duv...  \n",
      "4    [u'John Travolta', u'Uma Thurman', u'Samuel L....  \n",
      "21   [u'Alexandre Rodrigues', u'Matheus Nachtergael...  \n",
      "..                                                 ...  \n",
      "927  [u'Joseph Gordon-Levitt', u'Lukas Haas', u'Emi...  \n",
      "931  [u'Robert De Niro', u'Harvey Keitel', u'David ...  \n",
      "950  [u'Jennifer Tilly', u'Gina Gershon', u'Joe Pan...  \n",
      "969  [u'Gerard Butler', u'Jamie Foxx', u'Leslie Bibb']  \n",
      "978  [u'Charlie Sheen', u'Michael Douglas', u'Tamar...  \n",
      "\n",
      "[124 rows x 6 columns]\n"
     ]
    }
   ],
   "source": [
    "# get crime movies group\n",
    "crime_movies = genre_groups.get_group('Crime')\n",
    "print(crime_movies)"
   ]
  },
  {
   "cell_type": "code",
   "execution_count": 772,
   "metadata": {},
   "outputs": [
    {
     "name": "stdout",
     "output_type": "stream",
     "text": [
      "genre\n",
      "Action       126.485294\n",
      "Adventure    134.840000\n",
      "Animation     96.596774\n",
      "Biography    131.844156\n",
      "Comedy       107.602564\n",
      "Crime        122.298387\n",
      "Drama        126.539568\n",
      "Family       107.500000\n",
      "Fantasy      112.000000\n",
      "Film-Noir     97.333333\n",
      "History       66.000000\n",
      "Horror       102.517241\n",
      "Mystery      115.625000\n",
      "Sci-Fi       109.000000\n",
      "Thriller     114.200000\n",
      "Western      136.666667\n",
      "Name: duration, dtype: float64\n"
     ]
    }
   ],
   "source": [
    "# get mean of movie durations for each group\n",
    "imdb_df['duration'] = pd.to_numeric(imdb_df['duration'], errors='coerce')\n",
    "mean_durations = genre_groups['duration'].mean()\n",
    "print(mean_durations)"
   ]
  },
  {
   "cell_type": "code",
   "execution_count": 773,
   "metadata": {},
   "outputs": [
    {
     "name": "stdout",
     "output_type": "stream",
     "text": [
      "     star_rating                                            title  \\\n",
      "0            9.3                         THE SHAWSHANK REDEMPTION   \n",
      "1            9.2                                    THE GODFATHER   \n",
      "2            9.1                           THE GODFATHER: PART II   \n",
      "3            9.0                                  THE DARK KNIGHT   \n",
      "4            8.9                                     PULP FICTION   \n",
      "..           ...                                              ...   \n",
      "974          7.4                                          TOOTSIE   \n",
      "975          7.4                      BACK TO THE FUTURE PART III   \n",
      "976          7.4  MASTER AND COMMANDER: THE FAR SIDE OF THE WORLD   \n",
      "977          7.4                                      POLTERGEIST   \n",
      "978          7.4                                      WALL STREET   \n",
      "\n",
      "    content_rating      genre    duration  \\\n",
      "0                R      Crime  122.298387   \n",
      "1                R      Crime  122.298387   \n",
      "2                R      Crime  122.298387   \n",
      "3            PG-13     Action  126.485294   \n",
      "4                R      Crime  122.298387   \n",
      "..             ...        ...         ...   \n",
      "974             PG     Comedy  107.602564   \n",
      "975             PG  Adventure  134.840000   \n",
      "976          PG-13     Action  126.485294   \n",
      "977             PG     Horror  102.517241   \n",
      "978              R      Crime  122.298387   \n",
      "\n",
      "                                           actors_list  mean_duration  \n",
      "0    [u'Tim Robbins', u'Morgan Freeman', u'Bob Gunt...     122.298387  \n",
      "1      [u'Marlon Brando', u'Al Pacino', u'James Caan']     122.298387  \n",
      "2    [u'Al Pacino', u'Robert De Niro', u'Robert Duv...     122.298387  \n",
      "3    [u'Christian Bale', u'Heath Ledger', u'Aaron E...     126.485294  \n",
      "4    [u'John Travolta', u'Uma Thurman', u'Samuel L....     122.298387  \n",
      "..                                                 ...            ...  \n",
      "974  [u'Dustin Hoffman', u'Jessica Lange', u'Teri G...     107.602564  \n",
      "975  [u'Michael J. Fox', u'Christopher Lloyd', u'Ma...     134.840000  \n",
      "976  [u'Russell Crowe', u'Paul Bettany', u'Billy Bo...     126.485294  \n",
      "977  [u'JoBeth Williams', u\"Heather O'Rourke\", u'Cr...     102.517241  \n",
      "978  [u'Charlie Sheen', u'Michael Douglas', u'Tamar...     122.298387  \n",
      "\n",
      "[979 rows x 7 columns]\n"
     ]
    }
   ],
   "source": [
    "# change duration of all movies in a particular genre to mean duration of the group\n",
    "imdb_df['mean_duration'] = imdb_df['genre'].map(mean_durations)\n",
    "imdb_df['duration'] = imdb_df['mean_duration']\n",
    "print(imdb_df)"
   ]
  },
  {
   "cell_type": "code",
   "execution_count": 774,
   "metadata": {},
   "outputs": [
    {
     "name": "stdout",
     "output_type": "stream",
     "text": [
      "     star_rating                                            title  \\\n",
      "0            9.3                         THE SHAWSHANK REDEMPTION   \n",
      "1            9.2                                    THE GODFATHER   \n",
      "2            9.1                           THE GODFATHER: PART II   \n",
      "3            9.0                                  THE DARK KNIGHT   \n",
      "4            8.9                                     PULP FICTION   \n",
      "..           ...                                              ...   \n",
      "972          7.4                                   BLUE VALENTINE   \n",
      "973          7.4                            THE CIDER HOUSE RULES   \n",
      "975          7.4                      BACK TO THE FUTURE PART III   \n",
      "976          7.4  MASTER AND COMMANDER: THE FAR SIDE OF THE WORLD   \n",
      "978          7.4                                      WALL STREET   \n",
      "\n",
      "    content_rating      genre    duration  \\\n",
      "0                R      Crime  122.298387   \n",
      "1                R      Crime  122.298387   \n",
      "2                R      Crime  122.298387   \n",
      "3            PG-13     Action  126.485294   \n",
      "4                R      Crime  122.298387   \n",
      "..             ...        ...         ...   \n",
      "972          NC-17      Drama  126.539568   \n",
      "973          PG-13      Drama  126.539568   \n",
      "975             PG  Adventure  134.840000   \n",
      "976          PG-13     Action  126.485294   \n",
      "978              R      Crime  122.298387   \n",
      "\n",
      "                                           actors_list  mean_duration  \n",
      "0    [u'Tim Robbins', u'Morgan Freeman', u'Bob Gunt...     122.298387  \n",
      "1      [u'Marlon Brando', u'Al Pacino', u'James Caan']     122.298387  \n",
      "2    [u'Al Pacino', u'Robert De Niro', u'Robert Duv...     122.298387  \n",
      "3    [u'Christian Bale', u'Heath Ledger', u'Aaron E...     126.485294  \n",
      "4    [u'John Travolta', u'Uma Thurman', u'Samuel L....     122.298387  \n",
      "..                                                 ...            ...  \n",
      "972  [u'Ryan Gosling', u'Michelle Williams', u'John...     126.539568  \n",
      "973  [u'Tobey Maguire', u'Charlize Theron', u'Micha...     126.539568  \n",
      "975  [u'Michael J. Fox', u'Christopher Lloyd', u'Ma...     134.840000  \n",
      "976  [u'Russell Crowe', u'Paul Bettany', u'Billy Bo...     126.485294  \n",
      "978  [u'Charlie Sheen', u'Michael Douglas', u'Tamar...     122.298387  \n",
      "\n",
      "[699 rows x 7 columns]\n"
     ]
    }
   ],
   "source": [
    "# drop groups/genres that do not have average movie duration greater than 120.\n",
    "filtered_genres = mean_durations[mean_durations > 120].index\n",
    "filtered_imdb_df = imdb_df[imdb_df['genre'].isin(filtered_genres)]\n",
    "print(filtered_imdb_df)\n"
   ]
  },
  {
   "cell_type": "code",
   "execution_count": 775,
   "metadata": {},
   "outputs": [
    {
     "name": "stdout",
     "output_type": "stream",
     "text": [
      "Column 'Date' does not exist in the DataFrame.\n"
     ]
    }
   ],
   "source": [
    "# group weekday wise bikers count\n",
    "bikes_df.columns = bikes_df.columns.str.strip()\n",
    "\n",
    "if 'Date' in bikes_df.columns:\n",
    "    bikes_df['Date'] = pd.to_datetime(bikes_df['Date'], format='%Y/%m/%d', errors='coerce')\n",
    "\n",
    "    # Add weekday column\n",
    "    bikes_df['weekday'] = bikes_df['Date'].dt.day_name()\n",
    "    print(bikes_df.head())\n",
    "else:\n",
    "    print(\"Column 'Date' does not exist in the DataFrame.\")"
   ]
  },
  {
   "cell_type": "code",
   "execution_count": 776,
   "metadata": {},
   "outputs": [],
   "source": [
    "# get weekday wise biker count\n",
    "#weekday_biker_count = bikes_df.groupby('weekday').size()\n",
    "#print(weekday_biker_count)"
   ]
  },
  {
   "cell_type": "code",
   "execution_count": 777,
   "metadata": {},
   "outputs": [],
   "source": [
    "# plot weekday wise biker count for 'Berri1'\n"
   ]
  },
  {
   "cell_type": "markdown",
   "metadata": {},
   "source": [
    "![](https://memegenerator.net/img/instances/500x/73988569/pythonpandas-is-easy-import-and-go.jpg)"
   ]
  }
 ],
 "metadata": {
  "kernelspec": {
   "display_name": "Python 3 (ipykernel)",
   "language": "python",
   "name": "python3"
  },
  "language_info": {
   "codemirror_mode": {
    "name": "ipython",
    "version": 3
   },
   "file_extension": ".py",
   "mimetype": "text/x-python",
   "name": "python",
   "nbconvert_exporter": "python",
   "pygments_lexer": "ipython3",
   "version": "3.11.7"
  }
 },
 "nbformat": 4,
 "nbformat_minor": 4
}
